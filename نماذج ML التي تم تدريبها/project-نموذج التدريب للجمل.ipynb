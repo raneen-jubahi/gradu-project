{
  "nbformat": 4,
  "nbformat_minor": 0,
  "metadata": {
    "colab": {
      "provenance": []
    },
    "kernelspec": {
      "name": "python3",
      "display_name": "Python 3"
    },
    "language_info": {
      "name": "python"
    }
  },
  "cells": [
    {
      "cell_type": "code",
      "execution_count": 2,
      "metadata": {
        "colab": {
          "base_uri": "https://localhost:8080/"
        },
        "id": "13BL8pWjwtOi",
        "outputId": "80648302-cd67-4b1c-8075-2681e6fdce28"
      },
      "outputs": [
        {
          "output_type": "stream",
          "name": "stdout",
          "text": [
            "Mounted at /content/drive\n"
          ]
        }
      ],
      "source": [
        "# ربط Google Drive مع Google Colab للوصول إلى الملفات\n",
        "from google.colab import drive\n",
        "\n",
        "# تثبيت Google Drive في هذا المسار للوصول إلى الملفات عبره\n",
        "drive.mount('/content/drive')\n"
      ]
    },
    {
      "cell_type": "code",
      "source": [
        "\n",
        "import pandas as pd\n",
        "import numpy as np\n",
        "import matplotlib.pyplot as plt\n",
        "import string\n",
        "import re\n",
        "\n",
        "# مكتبة NLTK لإزالة التوقفات (قد تحتاج تنزيلها لاحقًا)\n",
        "import nltk\n",
        "from nltk.corpus import stopwords\n",
        "nltk.download('stopwords')\n",
        "\n",
        "# تقسيم البيانات والبحث الشبكي\n",
        "from sklearn.model_selection import train_test_split, GridSearchCV\n",
        "\n",
        "# تحويل النصوص إلى خصائص رقمية\n",
        "from sklearn.feature_extraction.text import TfidfVectorizer\n",
        "\n",
        "# إنشاء pipeline لتبسيط خطوات التدريب\n",
        "from sklearn.pipeline import make_pipeline\n",
        "\n",
        "# نماذج تصنيف مختلفة\n",
        "from sklearn.linear_model import LogisticRegression\n",
        "from sklearn.ensemble import RandomForestClassifier\n",
        "from sklearn.naive_bayes import MultinomialNB\n",
        "from sklearn.svm import SVC\n",
        "\n",
        "# تقييم النموذج\n",
        "from sklearn.metrics import confusion_matrix, accuracy_score, classification_report\n",
        "\n",
        "# تجاهل التحذيرات\n",
        "import warnings\n",
        "warnings.filterwarnings(\"ignore\")\n",
        "import openpyxl\n",
        "import joblib"
      ],
      "metadata": {
        "colab": {
          "base_uri": "https://localhost:8080/"
        },
        "id": "io1DCwckxI8d",
        "outputId": "c03f6d6c-d700-492d-8d69-bb62f3749e2d"
      },
      "execution_count": 3,
      "outputs": [
        {
          "output_type": "stream",
          "name": "stderr",
          "text": [
            "[nltk_data] Downloading package stopwords to /root/nltk_data...\n",
            "[nltk_data]   Unzipping corpora/stopwords.zip.\n"
          ]
        }
      ]
    },
    {
      "cell_type": "code",
      "source": [
        "\n",
        "from google.colab import files\n",
        "uploaded = files.upload()\n",
        "\n",
        "import pandas as pd\n",
        "\n",
        "df = pd.read_excel(\"Book 5.xlsx\")"
      ],
      "metadata": {
        "colab": {
          "base_uri": "https://localhost:8080/",
          "height": 73
        },
        "id": "JhdKQ46-xL83",
        "outputId": "3b599895-f60e-4656-e870-62fe0f70fceb"
      },
      "execution_count": 4,
      "outputs": [
        {
          "output_type": "display_data",
          "data": {
            "text/plain": [
              "<IPython.core.display.HTML object>"
            ],
            "text/html": [
              "\n",
              "     <input type=\"file\" id=\"files-b408e52f-1d3f-43e5-a67a-43f82dfe1a55\" name=\"files[]\" multiple disabled\n",
              "        style=\"border:none\" />\n",
              "     <output id=\"result-b408e52f-1d3f-43e5-a67a-43f82dfe1a55\">\n",
              "      Upload widget is only available when the cell has been executed in the\n",
              "      current browser session. Please rerun this cell to enable.\n",
              "      </output>\n",
              "      <script>// Copyright 2017 Google LLC\n",
              "//\n",
              "// Licensed under the Apache License, Version 2.0 (the \"License\");\n",
              "// you may not use this file except in compliance with the License.\n",
              "// You may obtain a copy of the License at\n",
              "//\n",
              "//      http://www.apache.org/licenses/LICENSE-2.0\n",
              "//\n",
              "// Unless required by applicable law or agreed to in writing, software\n",
              "// distributed under the License is distributed on an \"AS IS\" BASIS,\n",
              "// WITHOUT WARRANTIES OR CONDITIONS OF ANY KIND, either express or implied.\n",
              "// See the License for the specific language governing permissions and\n",
              "// limitations under the License.\n",
              "\n",
              "/**\n",
              " * @fileoverview Helpers for google.colab Python module.\n",
              " */\n",
              "(function(scope) {\n",
              "function span(text, styleAttributes = {}) {\n",
              "  const element = document.createElement('span');\n",
              "  element.textContent = text;\n",
              "  for (const key of Object.keys(styleAttributes)) {\n",
              "    element.style[key] = styleAttributes[key];\n",
              "  }\n",
              "  return element;\n",
              "}\n",
              "\n",
              "// Max number of bytes which will be uploaded at a time.\n",
              "const MAX_PAYLOAD_SIZE = 100 * 1024;\n",
              "\n",
              "function _uploadFiles(inputId, outputId) {\n",
              "  const steps = uploadFilesStep(inputId, outputId);\n",
              "  const outputElement = document.getElementById(outputId);\n",
              "  // Cache steps on the outputElement to make it available for the next call\n",
              "  // to uploadFilesContinue from Python.\n",
              "  outputElement.steps = steps;\n",
              "\n",
              "  return _uploadFilesContinue(outputId);\n",
              "}\n",
              "\n",
              "// This is roughly an async generator (not supported in the browser yet),\n",
              "// where there are multiple asynchronous steps and the Python side is going\n",
              "// to poll for completion of each step.\n",
              "// This uses a Promise to block the python side on completion of each step,\n",
              "// then passes the result of the previous step as the input to the next step.\n",
              "function _uploadFilesContinue(outputId) {\n",
              "  const outputElement = document.getElementById(outputId);\n",
              "  const steps = outputElement.steps;\n",
              "\n",
              "  const next = steps.next(outputElement.lastPromiseValue);\n",
              "  return Promise.resolve(next.value.promise).then((value) => {\n",
              "    // Cache the last promise value to make it available to the next\n",
              "    // step of the generator.\n",
              "    outputElement.lastPromiseValue = value;\n",
              "    return next.value.response;\n",
              "  });\n",
              "}\n",
              "\n",
              "/**\n",
              " * Generator function which is called between each async step of the upload\n",
              " * process.\n",
              " * @param {string} inputId Element ID of the input file picker element.\n",
              " * @param {string} outputId Element ID of the output display.\n",
              " * @return {!Iterable<!Object>} Iterable of next steps.\n",
              " */\n",
              "function* uploadFilesStep(inputId, outputId) {\n",
              "  const inputElement = document.getElementById(inputId);\n",
              "  inputElement.disabled = false;\n",
              "\n",
              "  const outputElement = document.getElementById(outputId);\n",
              "  outputElement.innerHTML = '';\n",
              "\n",
              "  const pickedPromise = new Promise((resolve) => {\n",
              "    inputElement.addEventListener('change', (e) => {\n",
              "      resolve(e.target.files);\n",
              "    });\n",
              "  });\n",
              "\n",
              "  const cancel = document.createElement('button');\n",
              "  inputElement.parentElement.appendChild(cancel);\n",
              "  cancel.textContent = 'Cancel upload';\n",
              "  const cancelPromise = new Promise((resolve) => {\n",
              "    cancel.onclick = () => {\n",
              "      resolve(null);\n",
              "    };\n",
              "  });\n",
              "\n",
              "  // Wait for the user to pick the files.\n",
              "  const files = yield {\n",
              "    promise: Promise.race([pickedPromise, cancelPromise]),\n",
              "    response: {\n",
              "      action: 'starting',\n",
              "    }\n",
              "  };\n",
              "\n",
              "  cancel.remove();\n",
              "\n",
              "  // Disable the input element since further picks are not allowed.\n",
              "  inputElement.disabled = true;\n",
              "\n",
              "  if (!files) {\n",
              "    return {\n",
              "      response: {\n",
              "        action: 'complete',\n",
              "      }\n",
              "    };\n",
              "  }\n",
              "\n",
              "  for (const file of files) {\n",
              "    const li = document.createElement('li');\n",
              "    li.append(span(file.name, {fontWeight: 'bold'}));\n",
              "    li.append(span(\n",
              "        `(${file.type || 'n/a'}) - ${file.size} bytes, ` +\n",
              "        `last modified: ${\n",
              "            file.lastModifiedDate ? file.lastModifiedDate.toLocaleDateString() :\n",
              "                                    'n/a'} - `));\n",
              "    const percent = span('0% done');\n",
              "    li.appendChild(percent);\n",
              "\n",
              "    outputElement.appendChild(li);\n",
              "\n",
              "    const fileDataPromise = new Promise((resolve) => {\n",
              "      const reader = new FileReader();\n",
              "      reader.onload = (e) => {\n",
              "        resolve(e.target.result);\n",
              "      };\n",
              "      reader.readAsArrayBuffer(file);\n",
              "    });\n",
              "    // Wait for the data to be ready.\n",
              "    let fileData = yield {\n",
              "      promise: fileDataPromise,\n",
              "      response: {\n",
              "        action: 'continue',\n",
              "      }\n",
              "    };\n",
              "\n",
              "    // Use a chunked sending to avoid message size limits. See b/62115660.\n",
              "    let position = 0;\n",
              "    do {\n",
              "      const length = Math.min(fileData.byteLength - position, MAX_PAYLOAD_SIZE);\n",
              "      const chunk = new Uint8Array(fileData, position, length);\n",
              "      position += length;\n",
              "\n",
              "      const base64 = btoa(String.fromCharCode.apply(null, chunk));\n",
              "      yield {\n",
              "        response: {\n",
              "          action: 'append',\n",
              "          file: file.name,\n",
              "          data: base64,\n",
              "        },\n",
              "      };\n",
              "\n",
              "      let percentDone = fileData.byteLength === 0 ?\n",
              "          100 :\n",
              "          Math.round((position / fileData.byteLength) * 100);\n",
              "      percent.textContent = `${percentDone}% done`;\n",
              "\n",
              "    } while (position < fileData.byteLength);\n",
              "  }\n",
              "\n",
              "  // All done.\n",
              "  yield {\n",
              "    response: {\n",
              "      action: 'complete',\n",
              "    }\n",
              "  };\n",
              "}\n",
              "\n",
              "scope.google = scope.google || {};\n",
              "scope.google.colab = scope.google.colab || {};\n",
              "scope.google.colab._files = {\n",
              "  _uploadFiles,\n",
              "  _uploadFilesContinue,\n",
              "};\n",
              "})(self);\n",
              "</script> "
            ]
          },
          "metadata": {}
        },
        {
          "output_type": "stream",
          "name": "stdout",
          "text": [
            "Saving Book 5.xlsx to Book 5.xlsx\n"
          ]
        }
      ]
    },
    {
      "cell_type": "code",
      "source": [
        "df.columns = df.columns.str.strip()\n",
        "df['label'] = 0            # نعين كل القيم بـ 0 أولاً\n",
        "df.loc[0:1046, 'label'] = 1  # نعين القيم من السطر 0 إلى 1046 بـ 1 فقط\n"
      ],
      "metadata": {
        "id": "CCns8kENxeNz"
      },
      "execution_count": 5,
      "outputs": []
    },
    {
      "cell_type": "code",
      "source": [
        "print(df['label'].value_counts())\n",
        "print(df.iloc[1045:])\n"
      ],
      "metadata": {
        "colab": {
          "base_uri": "https://localhost:8080/"
        },
        "collapsed": true,
        "id": "x9Yi-4f-xkMl",
        "outputId": "4a94c6ef-9f41-4adc-8c84-e050c5c67a15"
      },
      "execution_count": 6,
      "outputs": [
        {
          "output_type": "stream",
          "name": "stdout",
          "text": [
            "label\n",
            "1    1047\n",
            "0     635\n",
            "Name: count, dtype: int64\n",
            "                                               sentence           token  label\n",
            "1045  تَسْتَخْدِمُ الطُّيُورُمَنَاقِيرَهَا لِجَمْعِ ...   مَنَاقِيرَهَا      1\n",
            "1046  تَزَيَّنَ المَسْجِدُ بِالمَحَارِيبِ المُزَخْرَ...  بِالمَحَارِيبِ      1\n",
            "1047  مُبَرْمِجُونَ يُطَوِّرُونَ التَّطْبِيقَاتِ الْ...   مُبَرْمِجُونَ      0\n",
            "1048  مُهَنْدِسُونَ يُشْرِفُونَ عَلَى الْمَشَارِيعِ ...   مُهَنْدِسُونَ      0\n",
            "1049  حِرَفِيُّونَ يَصْنَعُونَ الْمُنْتَجَاتِ الْيَد...    حِرَفِيُّونَ      0\n",
            "...                                                 ...             ...    ...\n",
            "1677  تعالتْ أصواتُ المغنياتِ في مهرجانِ الطربِ العر...             NaN      0\n",
            "1678  التفتَ العشاقُ لضحكاتِ العاشقاتِ وهي تهمسُ بال...             NaN      0\n",
            "1679  خَطَّتِ الحروفُ على صفحاتِ الدواوينِ بيدِ الشا...             NaN      0\n",
            "1680  خَطَّتِ الحروفُ على صفحاتِ الدواوينِ بيدِ الشا...             NaN      0\n",
            "1681  رَوَتِ الجداتُ قصصًا تنسجُ الحكمةَ في أعماقِ ا...             NaN      0\n",
            "\n",
            "[637 rows x 3 columns]\n"
          ]
        }
      ]
    },
    {
      "cell_type": "code",
      "source": [
        "\n"
      ],
      "metadata": {
        "id": "hRFnhh4w935o"
      },
      "execution_count": null,
      "outputs": []
    },
    {
      "cell_type": "code",
      "source": [
        "import re\n",
        "import nltk\n",
        "from nltk.corpus import stopwords\n",
        "import pandas as pd\n",
        "\n",
        "# تحميل قائمة التوقّف من NLTK مرّة واحدة\n",
        "nltk.download('stopwords')\n",
        "nltk_stopwords = set(stopwords.words('arabic'))\n",
        "\n",
        "# ───────── القائمة المخصَّصة التي زوّدتني بها ─────────\n",
        "custom_stopwords = set([\n",
        "    'إذ','إذا','إذما','إذن','آه','آها','إلى','إلي','إليك','إليكم','إليكما','إليكن',\n",
        "    'أم','أما','إما','أن','إن','إنا','أنا','أنتم','أنتما','أنتن','أنى','أو','أولئك',\n",
        "    'أولاء','إي','إياك','إياكم','إياكما','إياكن','إياه','إياها','إياهم','إياهما',\n",
        "    'إياهن','إياي','إيانا','إذ','إذًا','بخٍ','بس','بعد','بعض','بك','بكم','بكما',\n",
        "    'بكن','به','بها','بهم','بهما','بهن','بي','بنا','بين','بيد','تلك','تلكم','تلكما',\n",
        "    'ثم','ثمة','حاشا','حبذا','حتى','حيث','حيثما','حين','خلا','دون','ذا','ذات','ذاك',\n",
        "    'ذو','ذي','ذين','ذلك','ذلكم','ذلكما','ذه','هذه','هكذا','هل','هلا','هم','هما',\n",
        "    'هن','هو','هي','هيا','هيت','هيهات','وا','وإذا','وإن','والذي','والتي','ولا','ولكن',\n",
        "    'ولو','وما','ومن','وهو','يا','أجل','أجمع','أخ','أخا','أخو','أف','أقل','أمام','أمس',\n",
        "    'أنى','أول','أين','أي','أيا','بخ','بس','ثم','تحت','جلل','خلف','خلال','دون','ذات',\n",
        "    'رغم','سوف','سوى','شبه','صه','ضد','ضمن','طرا','عدا','عدد','عسى','عل','على',\n",
        "    'عليك','عند','غير','فإذا','فإن','فقط','قبل','قد','كأن','كأنما','كأي','كأين','كاد',\n",
        "    'كان','كأن','كذا','كذلك','كل','كلا','كلتا','كلم','كم','كي','كيف','كيفما','لا',\n",
        "    'لاسيما','لات','لدى','لست','لعل','لكن','لكي','لم','لن','لو','لولا','لوما','ليت',\n",
        "    'ليس','ما','ماذا','مازال','متى','مثل','مثلا','مد','مذ','مع','معاذ','مما','من',\n",
        "    'منذ','مه','مهما','نحن','نحو','نعم','ها','هاتان','هاته','هاتي','هاتهما','هاتيكم',\n",
        "    'هاتهما','هاته','هاك','هاكم','هانا','هؤلاء','هاهنا','هيهات','و','واحد','وإن',\n",
        "    'وراء','وسط','وما','وهي','وهو','أثناء','يا'\n",
        "])\n",
        "# ─────────────────────────────────────────\n",
        "\n",
        "# دمج القائمتين\n",
        "all_stopwords = nltk_stopwords.union(custom_stopwords)\n",
        "\n",
        "# ---------- دوال التنظيف ----------\n",
        "def remove_diacritics(text):\n",
        "    diacritics_pattern = re.compile(r\"\"\" ّ|َ|ً|ُ|ٌ|ِ|ٍ|ْ|ـ \"\"\", re.VERBOSE)\n",
        "    return re.sub(diacritics_pattern, '', text)\n",
        "\n",
        "def remove_punctuation(text):\n",
        "    return re.sub(r'[^\\w\\s]', '', text)\n",
        "\n",
        "def remove_stopwords(text):\n",
        "    return ' '.join([w for w in text.split() if w not in all_stopwords])\n",
        "\n",
        "def remove_definite_article(text):\n",
        "    exceptions = {\"الله\", \"الذي\", \"التي\", \"الذين\", \"اللهم\", \"الآن\"}\n",
        "    processed = [(w[2:] if w.startswith(\"ال\") and w not in exceptions else w)\n",
        "                 for w in text.split()]\n",
        "    return ' '.join(processed)\n",
        "\n",
        "def clean_text(text):\n",
        "    text = remove_diacritics(text)\n",
        "    text = remove_punctuation(text)\n",
        "    text = remove_stopwords(text)\n",
        "    return text\n",
        "\n",
        "# تطبيق دالة التنظيف على عمود 'sentence' وحفظه في عمود جديد\n",
        "df['clean_sentence'] = df['sentence'].astype(str).apply(clean_text)\n",
        "\n",
        "# عرض أول خمسة أسطر للمقارنة\n",
        "print(df[['sentence', 'clean_sentence']].head())\n",
        "\n"
      ],
      "metadata": {
        "colab": {
          "base_uri": "https://localhost:8080/"
        },
        "collapsed": true,
        "id": "g0RuBGXLZPjn",
        "outputId": "fe27e246-155b-4dff-9667-bb480380a6ec"
      },
      "execution_count": 7,
      "outputs": [
        {
          "output_type": "stream",
          "name": "stdout",
          "text": [
            "                                         sentence  \\\n",
            "0                 ساعدنا أرامل الحي في جمع الحطب.   \n",
            "1  جلس الزوار على الأرائك المريحة أثناء الانتظار.   \n",
            "2           اجتمع الأقارب في مناسبة عائلية كبيرة.   \n",
            "3          ارتدت المرأة الأساور الذهبية في الحفل.   \n",
            "4                     سافرنا إلى الأماكن النائية.   \n",
            "\n",
            "                        clean_sentence  \n",
            "0          ساعدنا أرامل الحي جمع الحطب  \n",
            "1  جلس الزوار الأرائك المريحة الانتظار  \n",
            "2    اجتمع الأقارب مناسبة عائلية كبيرة  \n",
            "3   ارتدت المرأة الأساور الذهبية الحفل  \n",
            "4               سافرنا الأماكن النائية  \n"
          ]
        },
        {
          "output_type": "stream",
          "name": "stderr",
          "text": [
            "[nltk_data] Downloading package stopwords to /root/nltk_data...\n",
            "[nltk_data]   Package stopwords is already up-to-date!\n"
          ]
        }
      ]
    },
    {
      "cell_type": "code",
      "source": [
        "from sklearn.model_selection import train_test_split\n",
        "\n",
        "# نفصل الميزات (X) عن التصنيفات (y)\n",
        "X = df[\"sentence\"]          # أو أي اسم عمود عندك\n",
        "y = df[\"label\"]\n",
        "\n",
        "# تقسيم البيانات: 80٪ تدريب، 20٪ اختبار\n",
        "X_train, X_test, y_train, y_test = train_test_split(\n",
        "    X,\n",
        "    y,\n",
        "    test_size=0.20,         # غيّرها لو حاب نسبة مختلفة\n",
        "    random_state=42,        # لضمان نفس العينة كل مرة (قابل لإعادة الإنتاج)\n",
        "    stratify=y              # يحافظ على توازن الفئات في Train/Test\n",
        ")\n",
        "\n",
        "print(f\"حجم بيانات التدريب: {X_train.shape[0]}\")\n",
        "print(f\"حجم بيانات الاختبار: {X_test.shape[0]}\")\n"
      ],
      "metadata": {
        "colab": {
          "base_uri": "https://localhost:8080/"
        },
        "id": "npUXvdh3kcXo",
        "outputId": "9b45d967-929c-4d21-9f7e-afddc4686856"
      },
      "execution_count": 8,
      "outputs": [
        {
          "output_type": "stream",
          "name": "stdout",
          "text": [
            "حجم بيانات التدريب: 1345\n",
            "حجم بيانات الاختبار: 337\n"
          ]
        }
      ]
    },
    {
      "cell_type": "code",
      "source": [
        "# ─────────────────────────────\n",
        "# 1) المكتبات\n",
        "# ─────────────────────────────\n",
        "from sklearn.feature_extraction.text import TfidfVectorizer\n",
        "from sklearn.svm import SVC\n",
        "from sklearn.model_selection import train_test_split\n",
        "from sklearn.metrics import accuracy_score, classification_report\n",
        "\n",
        "# ─────────────────────────────\n",
        "# 2) تقسيم البيانات\n",
        "# ─────────────────────────────\n",
        "X = df[\"clean_sentence\"].astype(str)\n",
        "y = df[\"label\"]\n",
        "\n",
        "X_train, X_test, y_train, y_test = train_test_split(\n",
        "    X, y,\n",
        "    test_size=0.20,\n",
        "    random_state=42,\n",
        "    stratify=y\n",
        ")\n",
        "\n",
        "# ─────────────────────────────\n",
        "# 3) محوِّل TF-IDF (Unigram Word)\n",
        "# ─────────────────────────────\n",
        "tfidf_vect = TfidfVectorizer(\n",
        "    analyzer=\"word\",\n",
        "    ngram_range=(1, 1),   # Unigram فقط\n",
        "    max_features=5000,    # لم نضع حدًّا\n",
        "    sublinear_tf=False    # الإعداد الافتراضي\n",
        ")\n",
        "\n",
        "X_train_vec = tfidf_vect.fit_transform(X_train)\n",
        "X_test_vec  = tfidf_vect.transform(X_test)\n",
        "\n",
        "# ─────────────────────────────\n",
        "# 4) نموذج SVM خطّي\n",
        "# ─────────────────────────────\n",
        "svm79 = SVC(\n",
        "    kernel=\"linear\",\n",
        "    C=1.0,\n",
        "    probability=False,     # لم نطلب احتمالات\n",
        "    random_state=42\n",
        ")\n",
        "svm79.fit(X_train_vec, y_train)\n",
        "\n",
        "# ─────────────────────────────\n",
        "# 5) التنبؤ والتقييم\n",
        "# ─────────────────────────────\n",
        "y_pred = svm79.predict(X_test_vec)\n",
        "\n",
        "print(\"Accuracy:\", round(accuracy_score(y_test, y_pred), 4))\n",
        "print(\"\\nClassification Report:\\n\", classification_report(y_test, y_pred))\n"
      ],
      "metadata": {
        "colab": {
          "base_uri": "https://localhost:8080/"
        },
        "id": "1qv5plwr-fNz",
        "outputId": "4b35a883-9f23-4218-db30-3e07955f6eb5"
      },
      "execution_count": 14,
      "outputs": [
        {
          "output_type": "stream",
          "name": "stdout",
          "text": [
            "Accuracy: 0.8131\n",
            "\n",
            "Classification Report:\n",
            "               precision    recall  f1-score   support\n",
            "\n",
            "           0       0.89      0.57      0.70       127\n",
            "           1       0.79      0.96      0.86       210\n",
            "\n",
            "    accuracy                           0.81       337\n",
            "   macro avg       0.84      0.77      0.78       337\n",
            "weighted avg       0.83      0.81      0.80       337\n",
            "\n"
          ]
        }
      ]
    },
    {
      "cell_type": "code",
      "source": [
        "# =========================================\n",
        "#  كود اختبار بسيط لنموذج svm79 و tfidf_vect\n",
        "#  (يفترض أن svm79 و tfidf_vect محمَّلان في الذاكرة)\n",
        "# =========================================\n",
        "\n",
        "import re\n",
        "\n",
        "# 1) جُمَل تريد اختبارها\n",
        "test_sentences = [\n",
        "    \"جلس الأولاد على المقاعد.\",\n",
        "    \"قرأت كتبًا علمية مفيدة.\",\n",
        "    \"اشترى الأطفالُ ألعابًا جميلة.\"\n",
        "]\n",
        "\n",
        "# 2) دالة تنظيف مختصرة لتطابق ما استُخدم في التدريب\n",
        "def quick_clean(text):\n",
        "    text = re.sub(r\"[ًٌٍَُِّْـ]\", \"\", text)   # حذف التشكيل\n",
        "    text = re.sub(r\"[^\\w\\s]\", \"\", text)       # حذف الترقيم\n",
        "    return text.strip()\n",
        "\n",
        "cleaned = [quick_clean(s) for s in test_sentences]\n",
        "\n",
        "# 3) تحويل الجمل إلى تمثيل TF-IDF\n",
        "X_test_custom = tfidf_vect.transform(cleaned)\n",
        "\n",
        "# 4) التنبؤ باستخدام النموذج المدرب\n",
        "preds = svm79.predict(X_test_custom)\n",
        "\n",
        "# 5) عرض النتائج\n",
        "for sent, lbl in zip(test_sentences, preds):\n",
        "    verdict = \"يحتوي جمع تكسير\" if lbl == 1 else \"لا يحتوي جمع تكسير\"\n",
        "    print(f\"{sent}  →  {verdict}\")\n"
      ],
      "metadata": {
        "colab": {
          "base_uri": "https://localhost:8080/"
        },
        "id": "33XBVBIy-vrI",
        "outputId": "4e3e2ce1-558c-4f30-a3ab-d8a9ab0eb5c5"
      },
      "execution_count": 10,
      "outputs": [
        {
          "output_type": "stream",
          "name": "stdout",
          "text": [
            "جلس الأولاد على المقاعد.  →  يحتوي جمع تكسير\n",
            "قرأت كتبًا علمية مفيدة.  →  يحتوي جمع تكسير\n",
            "اشترى الأطفالُ ألعابًا جميلة.  →  يحتوي جمع تكسير\n"
          ]
        }
      ]
    },
    {
      "cell_type": "code",
      "source": [],
      "metadata": {
        "id": "4792-1XmIA7q"
      },
      "execution_count": null,
      "outputs": []
    },
    {
      "cell_type": "code",
      "source": [
        "# ───────── 5) ‎K‑Fold Validation‏ (5 طيّات)\n",
        "from sklearn.model_selection import StratifiedKFold, cross_val_score\n",
        "from sklearn.pipeline import Pipeline, FeatureUnion\n",
        "\n",
        "# ‏إنشاء متّحد الميزات (Word + Char) إنْ لم يكن موجوداً\n",
        "features = FeatureUnion([\n",
        "    (\"word\", TfidfVectorizer(\n",
        "        analyzer=\"word\",\n",
        "        ngram_range=(1, 2),\n",
        "        max_features=3000,\n",
        "        sublinear_tf=True)),\n",
        "    (\"char\", TfidfVectorizer(\n",
        "        analyzer=\"char_wb\",\n",
        "        ngram_range=(3, 5),\n",
        "        max_features=5000,\n",
        "        sublinear_tf=True))\n",
        "])\n",
        "\n",
        "# ‏بايبلاين كامل = (استخراج الميزات → SVM)\n",
        "pipe = Pipeline([\n",
        "    (\"features\", features),\n",
        "    (\"clf\", SVC(\n",
        "        C=1.0,\n",
        "        kernel=\"linear\",          # خطّي (يفيد غالباً مع النصوص)\n",
        "        class_weight=\"balanced\",\n",
        "        random_state=42))\n",
        "])\n",
        "\n",
        "# ‏5‑Fold (Stratified) مع خلط مسبق\n",
        "cv = StratifiedKFold(n_splits=5, shuffle=True, random_state=42)\n",
        "\n",
        "# ‏احسب دقة كل طيّة\n",
        "cv_scores = cross_val_score(pipe, X, y, cv=cv, scoring=\"accuracy\")\n",
        "\n",
        "print(\"دقة كل طيّة:\", np.round(cv_scores, 4))\n",
        "print(\"المتوسط ± الانحراف:\", f\"{cv_scores.mean():.4f} ± {cv_scores.std():.4f}\")\n"
      ],
      "metadata": {
        "colab": {
          "base_uri": "https://localhost:8080/"
        },
        "id": "s8efo8Qqzxru",
        "outputId": "e7d58fae-4268-4b00-8fff-c65f480b59f6"
      },
      "execution_count": 11,
      "outputs": [
        {
          "output_type": "stream",
          "name": "stdout",
          "text": [
            "دقة كل طيّة: [0.9228 0.8872 0.9018 0.9286 0.9137]\n",
            "المتوسط ± الانحراف: 0.9108 ± 0.0149\n"
          ]
        }
      ]
    },
    {
      "cell_type": "code",
      "source": [
        "# ـــــــ  رسم دقّات K‑Fold  ـــــــ\n",
        "import numpy as np\n",
        "import matplotlib.pyplot as plt\n",
        "\n",
        "folds = np.arange(1, len(cv_scores) + 1)   # 1, 2, …, k\n",
        "\n",
        "plt.figure(figsize=(6, 4))\n",
        "plt.plot(folds, cv_scores, marker='o', linewidth=2, label='Fold accuracy')\n",
        "plt.axhline(cv_scores.mean(), linestyle='--',\n",
        "            label=f'Average = {cv_scores.mean():.3f}')\n",
        "\n",
        "plt.title('Stratified 5‑Fold Accuracy')\n",
        "plt.xlabel('Fold')\n",
        "plt.ylabel('Accuracy')\n",
        "plt.xticks(folds)\n",
        "plt.ylim(0, 1)          # لأن الدقّة بين 0 و 1\n",
        "plt.grid(True, alpha=0.3)\n",
        "plt.legend()\n",
        "plt.tight_layout()\n",
        "plt.show()"
      ],
      "metadata": {
        "colab": {
          "base_uri": "https://localhost:8080/",
          "height": 407
        },
        "id": "MJIAx75WIHdb",
        "outputId": "682c9687-1010-4eaf-f6d6-05b1bcd9556b"
      },
      "execution_count": 12,
      "outputs": [
        {
          "output_type": "display_data",
          "data": {
            "text/plain": [
              "<Figure size 600x400 with 1 Axes>"
            ],
            "image/png": "[encoded data removed]"
          },
          "metadata": {}
        }
      ]
    },
    {
      "cell_type": "code",
      "source": [
        "\n",
        "import joblib\n",
        "\n",
        "joblib.dump(svm79, \"finalmodel.pkl\")              # النموذج\n"
      ],
      "metadata": {
        "colab": {
          "base_uri": "https://localhost:8080/"
        },
        "id": "TKH8AOt1IQWw",
        "outputId": "0268e5cf-a259-4bf3-8bbe-5cc0c080e415"
      },
      "execution_count": 19,
      "outputs": [
        {
          "output_type": "execute_result",
          "data": {
            "text/plain": [
              "['finalmodel.pkl']"
            ]
          },
          "metadata": {},
          "execution_count": 19
        }
      ]
    },
    {
      "cell_type": "code",
      "source": [
        "import joblib\n",
        "\n",
        "joblib.dump(tfidf_vect, \"finalmodelvectorizer.pkl\")\n"
      ],
      "metadata": {
        "colab": {
          "base_uri": "https://localhost:8080/"
        },
        "id": "tR_CDPKKMYjP",
        "outputId": "59ecd33a-864f-441a-9d38-3c53f3ff4bd9"
      },
      "execution_count": 22,
      "outputs": [
        {
          "output_type": "execute_result",
          "data": {
            "text/plain": [
              "['finalmodelvectorizer.pkl']"
            ]
          },
          "metadata": {},
          "execution_count": 22
        }
      ]
    },
    {
      "cell_type": "code",
      "source": [
        "from google.colab import files\n",
        "\n",
        "# تنزيل النموذج\n",
        "files.download(\"finalmodel.pkl\")\n",
        "files.download(\"finalmodelvectorizer.pkl\")\n",
        "\n"
      ],
      "metadata": {
        "colab": {
          "base_uri": "https://localhost:8080/",
          "height": 17
        },
        "id": "U6GYGVOWIUiX",
        "outputId": "90eeda40-31f4-43bd-ea17-14e5e4e224e8"
      },
      "execution_count": 23,
      "outputs": [
        {
          "output_type": "display_data",
          "data": {
            "text/plain": [
              "<IPython.core.display.Javascript object>"
            ],
            "application/javascript": [
              "\n",
              "    async function download(id, filename, size) {\n",
              "      if (!google.colab.kernel.accessAllowed) {\n",
              "        return;\n",
              "      }\n",
              "      const div = document.createElement('div');\n",
              "      const label = document.createElement('label');\n",
              "      label.textContent = `Downloading \"${filename}\": `;\n",
              "      div.appendChild(label);\n",
              "      const progress = document.createElement('progress');\n",
              "      progress.max = size;\n",
              "      div.appendChild(progress);\n",
              "      document.body.appendChild(div);\n",
              "\n",
              "      const buffers = [];\n",
              "      let downloaded = 0;\n",
              "\n",
              "      const channel = await google.colab.kernel.comms.open(id);\n",
              "      // Send a message to notify the kernel that we're ready.\n",
              "      channel.send({})\n",
              "\n",
              "      for await (const message of channel.messages) {\n",
              "        // Send a message to notify the kernel that we're ready.\n",
              "        channel.send({})\n",
              "        if (message.buffers) {\n",
              "          for (const buffer of message.buffers) {\n",
              "            buffers.push(buffer);\n",
              "            downloaded += buffer.byteLength;\n",
              "            progress.value = downloaded;\n",
              "          }\n",
              "        }\n",
              "      }\n",
              "      const blob = new Blob(buffers, {type: 'application/binary'});\n",
              "      const a = document.createElement('a');\n",
              "      a.href = window.URL.createObjectURL(blob);\n",
              "      a.download = filename;\n",
              "      div.appendChild(a);\n",
              "      a.click();\n",
              "      div.remove();\n",
              "    }\n",
              "  "
            ]
          },
          "metadata": {}
        },
        {
          "output_type": "display_data",
          "data": {
            "text/plain": [
              "<IPython.core.display.Javascript object>"
            ],
            "application/javascript": [
              "download(\"download_5f55eacd-0f6f-48da-b591-1ef65c38c904\", \"finalmodel.pkl\", 125291)"
            ]
          },
          "metadata": {}
        },
        {
          "output_type": "display_data",
          "data": {
            "text/plain": [
              "<IPython.core.display.Javascript object>"
            ],
            "application/javascript": [
              "\n",
              "    async function download(id, filename, size) {\n",
              "      if (!google.colab.kernel.accessAllowed) {\n",
              "        return;\n",
              "      }\n",
              "      const div = document.createElement('div');\n",
              "      const label = document.createElement('label');\n",
              "      label.textContent = `Downloading \"${filename}\": `;\n",
              "      div.appendChild(label);\n",
              "      const progress = document.createElement('progress');\n",
              "      progress.max = size;\n",
              "      div.appendChild(progress);\n",
              "      document.body.appendChild(div);\n",
              "\n",
              "      const buffers = [];\n",
              "      let downloaded = 0;\n",
              "\n",
              "      const channel = await google.colab.kernel.comms.open(id);\n",
              "      // Send a message to notify the kernel that we're ready.\n",
              "      channel.send({})\n",
              "\n",
              "      for await (const message of channel.messages) {\n",
              "        // Send a message to notify the kernel that we're ready.\n",
              "        channel.send({})\n",
              "        if (message.buffers) {\n",
              "          for (const buffer of message.buffers) {\n",
              "            buffers.push(buffer);\n",
              "            downloaded += buffer.byteLength;\n",
              "            progress.value = downloaded;\n",
              "          }\n",
              "        }\n",
              "      }\n",
              "      const blob = new Blob(buffers, {type: 'application/binary'});\n",
              "      const a = document.createElement('a');\n",
              "      a.href = window.URL.createObjectURL(blob);\n",
              "      a.download = filename;\n",
              "      div.appendChild(a);\n",
              "      a.click();\n",
              "      div.remove();\n",
              "    }\n",
              "  "
            ]
          },
          "metadata": {}
        },
        {
          "output_type": "display_data",
          "data": {
            "text/plain": [
              "<IPython.core.display.Javascript object>"
            ],
            "application/javascript": [
              "download(\"download_4191f224-ca2e-4a9f-b29d-58131d8f4019\", \"finalmodelvectorizer.pkl\", 188571)"
            ]
          },
          "metadata": {}
        }
      ]
    },
    {
      "cell_type": "code",
      "source": [
        "files.download(\"finalmodelvectorizer.pkl\")\n"
      ],
      "metadata": {
        "colab": {
          "base_uri": "https://localhost:8080/",
          "height": 17
        },
        "id": "DbAkmc_FOEYB",
        "outputId": "97725164-f565-41b0-edd9-59982e1ede4f"
      },
      "execution_count": 24,
      "outputs": [
        {
          "output_type": "display_data",
          "data": {
            "text/plain": [
              "<IPython.core.display.Javascript object>"
            ],
            "application/javascript": [
              "\n",
              "    async function download(id, filename, size) {\n",
              "      if (!google.colab.kernel.accessAllowed) {\n",
              "        return;\n",
              "      }\n",
              "      const div = document.createElement('div');\n",
              "      const label = document.createElement('label');\n",
              "      label.textContent = `Downloading \"${filename}\": `;\n",
              "      div.appendChild(label);\n",
              "      const progress = document.createElement('progress');\n",
              "      progress.max = size;\n",
              "      div.appendChild(progress);\n",
              "      document.body.appendChild(div);\n",
              "\n",
              "      const buffers = [];\n",
              "      let downloaded = 0;\n",
              "\n",
              "      const channel = await google.colab.kernel.comms.open(id);\n",
              "      // Send a message to notify the kernel that we're ready.\n",
              "      channel.send({})\n",
              "\n",
              "      for await (const message of channel.messages) {\n",
              "        // Send a message to notify the kernel that we're ready.\n",
              "        channel.send({})\n",
              "        if (message.buffers) {\n",
              "          for (const buffer of message.buffers) {\n",
              "            buffers.push(buffer);\n",
              "            downloaded += buffer.byteLength;\n",
              "            progress.value = downloaded;\n",
              "          }\n",
              "        }\n",
              "      }\n",
              "      const blob = new Blob(buffers, {type: 'application/binary'});\n",
              "      const a = document.createElement('a');\n",
              "      a.href = window.URL.createObjectURL(blob);\n",
              "      a.download = filename;\n",
              "      div.appendChild(a);\n",
              "      a.click();\n",
              "      div.remove();\n",
              "    }\n",
              "  "
            ]
          },
          "metadata": {}
        },
        {
          "output_type": "display_data",
          "data": {
            "text/plain": [
              "<IPython.core.display.Javascript object>"
            ],
            "application/javascript": [
              "download(\"download_c46e9392-ca5f-487c-9163-63b1047d2a46\", \"finalmodelvectorizer.pkl\", 188571)"
            ]
          },
          "metadata": {}
        }
      ]
    }
  ]
}